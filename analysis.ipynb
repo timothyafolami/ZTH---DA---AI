{
 "cells": [
  {
   "cell_type": "code",
   "execution_count": 26,
   "metadata": {},
   "outputs": [],
   "source": [
    "from data_analysis import *\n",
    "import pandas as pd\n",
    "import numpy as np\n",
    "import matplotlib.pyplot as plt"
   ]
  },
  {
   "cell_type": "code",
   "execution_count": 2,
   "metadata": {},
   "outputs": [
    {
     "name": "stdout",
     "output_type": "stream",
     "text": [
      "Note: you may need to restart the kernel to use updated packages.\n"
     ]
    },
    {
     "name": "stderr",
     "output_type": "stream",
     "text": [
      "ERROR: unknown command \"data_analysis.py\"\n",
      "\n"
     ]
    }
   ],
   "source": [
    "%pip data_analysis.py"
   ]
  },
  {
   "cell_type": "code",
   "execution_count": 3,
   "metadata": {},
   "outputs": [],
   "source": [
    "# Setting up the things I want in general analysis\n",
    "# Data Shape, columns in the data ,sum of missing values, sum of duplicated values\n",
    "def general_analysis(data):\n",
    "    shape = data_shape(data)\n",
    "    columns = data_columns(data)\n",
    "    missing = sum_missing_values(data)\n",
    "    duplicated = sum_duplicates(data)\n",
    "    return shape, columns, missing, duplicated"
   ]
  },
  {
   "cell_type": "code",
   "execution_count": 4,
   "metadata": {},
   "outputs": [],
   "source": [
    "data = pd.read_csv('Walmart_sales.csv')"
   ]
  },
  {
   "cell_type": "code",
   "execution_count": 5,
   "metadata": {},
   "outputs": [],
   "source": [
    "shape, columns, missing, duplicated = general_analysis(data)"
   ]
  },
  {
   "cell_type": "code",
   "execution_count": 6,
   "metadata": {},
   "outputs": [
    {
     "data": {
      "text/plain": [
       "((6435, 8),\n",
       " ['Store',\n",
       "  'Date',\n",
       "  'Weekly_Sales',\n",
       "  'Holiday_Flag',\n",
       "  'Temperature',\n",
       "  'Fuel_Price',\n",
       "  'CPI',\n",
       "  'Unemployment'],\n",
       " 0,\n",
       " 0)"
      ]
     },
     "execution_count": 6,
     "metadata": {},
     "output_type": "execute_result"
    }
   ],
   "source": [
    "shape, columns, missing, duplicated"
   ]
  },
  {
   "cell_type": "code",
   "execution_count": 7,
   "metadata": {},
   "outputs": [],
   "source": [
    "# creating a function that tekes in the informations and create a structured text format of it.\n",
    "def create_text(shape, columns, missing, duplicated):\n",
    "    text = f'The data has {shape[0]} rows and {shape[1]} columns. The columns in the data are {columns}. The data has {missing} missing values and {duplicated} duplicated values.'\n",
    "    return text"
   ]
  },
  {
   "cell_type": "code",
   "execution_count": 8,
   "metadata": {},
   "outputs": [],
   "source": [
    "text = create_text(shape, columns, missing, duplicated)"
   ]
  },
  {
   "cell_type": "code",
   "execution_count": 9,
   "metadata": {},
   "outputs": [
    {
     "data": {
      "text/plain": [
       "\"The data has 6435 rows and 8 columns. The columns in the data are ['Store', 'Date', 'Weekly_Sales', 'Holiday_Flag', 'Temperature', 'Fuel_Price', 'CPI', 'Unemployment']. The data has 0 missing values and 0 duplicated values.\""
      ]
     },
     "execution_count": 9,
     "metadata": {},
     "output_type": "execute_result"
    }
   ],
   "source": [
    "text"
   ]
  },
  {
   "cell_type": "code",
   "execution_count": 10,
   "metadata": {},
   "outputs": [],
   "source": [
    "def check_outliers(df, columns):\n",
    "    # Calculate the mean and standard deviation of the data\n",
    "    means = df[columns].mean()\n",
    "    stds = df[columns].std()\n",
    "\n",
    "    # Calculate the z-scores for each data point\n",
    "    z_scores = (df[columns] - means) / stds\n",
    "\n",
    "    # Identify outliers as those with a z-score greater than 3 or less than -3\n",
    "    outliers = np.abs(z_scores) > 3\n",
    "\n",
    "    # Calculate the percentage of outliers in each column\n",
    "    percentages = (outliers.sum(axis=0) / len(df)) * 100\n",
    "\n",
    "    return percentages\n",
    "\n",
    "outliers = check_outliers(data, ['Temperature', 'Fuel_Price', 'CPI', 'Unemployment', 'Weekly_Sales'])"
   ]
  },
  {
   "cell_type": "code",
   "execution_count": 11,
   "metadata": {},
   "outputs": [
    {
     "data": {
      "text/plain": [
       "Temperature     0.015540\n",
       "Fuel_Price      0.000000\n",
       "CPI             0.000000\n",
       "Unemployment    3.403263\n",
       "Weekly_Sales    0.466200\n",
       "dtype: float64"
      ]
     },
     "execution_count": 11,
     "metadata": {},
     "output_type": "execute_result"
    }
   ],
   "source": [
    "outliers"
   ]
  },
  {
   "cell_type": "code",
   "execution_count": 12,
   "metadata": {},
   "outputs": [],
   "source": [
    "# Content for EDA\n",
    "# 1. unique values in the data, data types, numerical and categorical columns, summary statistics of the data, distribution of the data, correlation between the columns, outliers in the data"
   ]
  },
  {
   "cell_type": "code",
   "execution_count": 84,
   "metadata": {},
   "outputs": [],
   "source": [
    "def data_info(df):\n",
    "    \"\"\"Return information about the DataFrame.\"\"\"\n",
    "    dtypes = \"\"\n",
    "    for col in df.columns:\n",
    "        dtypes += f\"{col}: {df[col].dtype}\\n\"\n",
    "    return dtypes\n",
    "\n",
    "def correlation_check(df, num):\n",
    "    \"\"\"Return a correlation matrix of the DataFrame.\"\"\"\n",
    "    return df[num].corr()\n",
    "\n",
    "def numerical_columns(data):\n",
    "    \"\"\"Return a list of numerical columns in the DataFrame.\"\"\"\n",
    "    num = [col for col in data.columns if data[col].dtype in ['int64', 'float64']]\n",
    "    return num\n",
    "\n",
    "def categorical_columns(data):\n",
    "    \"\"\"Return a list of categorical columns in the DataFrame.\"\"\"\n",
    "    cat = [col for col in data.columns if data[col].dtype == 'object']\n",
    "    return cat\n",
    "\n",
    "def summary_stats(data):\n",
    "    \"\"\"Return the summary statistics of the DataFrame.\"\"\"\n",
    "    return data.describe()\n",
    "\n",
    "def unique_values(data):\n",
    "    \"\"\"Return the unique values in the DataFrame.\"\"\"\n",
    "    return data.nunique()\n",
    "\n",
    "def check_outliers(df, columns):\n",
    "    # Filtering the columns\n",
    "    columns = [col for col in columns if df[col].nunique() > 10]\n",
    "    # Calculate the mean and standard deviation of the data\n",
    "    means = df[columns].mean()\n",
    "    stds = df[columns].std()\n",
    "\n",
    "    # Calculate the z-scores for each data point\n",
    "    z_scores = (df[columns] - means) / stds\n",
    "\n",
    "    # Identify outliers as those with a z-score greater than 3 or less than -3\n",
    "    outliers = np.abs(z_scores) > 3\n",
    "\n",
    "    # Calculate the percentage of outliers in each column\n",
    "    percentages = (outliers.sum(axis=0) / len(df)) * 100\n",
    "\n",
    "    return percentages"
   ]
  },
  {
   "cell_type": "code",
   "execution_count": 85,
   "metadata": {},
   "outputs": [],
   "source": [
    "# using a function\n",
    "def content_analysis(data):\n",
    "    unique = unique_values(data)\n",
    "    data_types = data_info(data)\n",
    "    numerical = numerical_columns(data)\n",
    "    categorical = categorical_columns(data)\n",
    "    summary = summary_stats(data)\n",
    "    correlation = correlation_check(data, numerical)\n",
    "    outliers = check_outliers(data, numerical)\n",
    "    return unique, data_types, numerical, categorical, summary, correlation, outliers"
   ]
  },
  {
   "cell_type": "code",
   "execution_count": 86,
   "metadata": {},
   "outputs": [],
   "source": [
    "# testing it\n",
    "unique, data_types, numerical, categorical, summary, correlation, outliers = content_analysis(data)"
   ]
  },
  {
   "cell_type": "code",
   "execution_count": 87,
   "metadata": {},
   "outputs": [
    {
     "data": {
      "text/plain": [
       "Store             45\n",
       "Date             143\n",
       "Weekly_Sales    6435\n",
       "Holiday_Flag       2\n",
       "Temperature     3528\n",
       "Fuel_Price       892\n",
       "CPI             2145\n",
       "Unemployment     349\n",
       "dtype: int64"
      ]
     },
     "execution_count": 87,
     "metadata": {},
     "output_type": "execute_result"
    }
   ],
   "source": [
    "unique"
   ]
  },
  {
   "cell_type": "code",
   "execution_count": 88,
   "metadata": {},
   "outputs": [
    {
     "data": {
      "text/html": [
       "<div>\n",
       "<style scoped>\n",
       "    .dataframe tbody tr th:only-of-type {\n",
       "        vertical-align: middle;\n",
       "    }\n",
       "\n",
       "    .dataframe tbody tr th {\n",
       "        vertical-align: top;\n",
       "    }\n",
       "\n",
       "    .dataframe thead th {\n",
       "        text-align: right;\n",
       "    }\n",
       "</style>\n",
       "<table border=\"1\" class=\"dataframe\">\n",
       "  <thead>\n",
       "    <tr style=\"text-align: right;\">\n",
       "      <th></th>\n",
       "      <th>Store</th>\n",
       "      <th>Weekly_Sales</th>\n",
       "      <th>Holiday_Flag</th>\n",
       "      <th>Temperature</th>\n",
       "      <th>Fuel_Price</th>\n",
       "      <th>CPI</th>\n",
       "      <th>Unemployment</th>\n",
       "    </tr>\n",
       "  </thead>\n",
       "  <tbody>\n",
       "    <tr>\n",
       "      <th>count</th>\n",
       "      <td>6435.000000</td>\n",
       "      <td>6.435000e+03</td>\n",
       "      <td>6435.000000</td>\n",
       "      <td>6435.000000</td>\n",
       "      <td>6435.000000</td>\n",
       "      <td>6435.000000</td>\n",
       "      <td>6435.000000</td>\n",
       "    </tr>\n",
       "    <tr>\n",
       "      <th>mean</th>\n",
       "      <td>23.000000</td>\n",
       "      <td>1.046965e+06</td>\n",
       "      <td>0.069930</td>\n",
       "      <td>60.663782</td>\n",
       "      <td>3.358607</td>\n",
       "      <td>171.578394</td>\n",
       "      <td>7.999151</td>\n",
       "    </tr>\n",
       "    <tr>\n",
       "      <th>std</th>\n",
       "      <td>12.988182</td>\n",
       "      <td>5.643666e+05</td>\n",
       "      <td>0.255049</td>\n",
       "      <td>18.444933</td>\n",
       "      <td>0.459020</td>\n",
       "      <td>39.356712</td>\n",
       "      <td>1.875885</td>\n",
       "    </tr>\n",
       "    <tr>\n",
       "      <th>min</th>\n",
       "      <td>1.000000</td>\n",
       "      <td>2.099862e+05</td>\n",
       "      <td>0.000000</td>\n",
       "      <td>-2.060000</td>\n",
       "      <td>2.472000</td>\n",
       "      <td>126.064000</td>\n",
       "      <td>3.879000</td>\n",
       "    </tr>\n",
       "    <tr>\n",
       "      <th>25%</th>\n",
       "      <td>12.000000</td>\n",
       "      <td>5.533501e+05</td>\n",
       "      <td>0.000000</td>\n",
       "      <td>47.460000</td>\n",
       "      <td>2.933000</td>\n",
       "      <td>131.735000</td>\n",
       "      <td>6.891000</td>\n",
       "    </tr>\n",
       "    <tr>\n",
       "      <th>50%</th>\n",
       "      <td>23.000000</td>\n",
       "      <td>9.607460e+05</td>\n",
       "      <td>0.000000</td>\n",
       "      <td>62.670000</td>\n",
       "      <td>3.445000</td>\n",
       "      <td>182.616521</td>\n",
       "      <td>7.874000</td>\n",
       "    </tr>\n",
       "    <tr>\n",
       "      <th>75%</th>\n",
       "      <td>34.000000</td>\n",
       "      <td>1.420159e+06</td>\n",
       "      <td>0.000000</td>\n",
       "      <td>74.940000</td>\n",
       "      <td>3.735000</td>\n",
       "      <td>212.743293</td>\n",
       "      <td>8.622000</td>\n",
       "    </tr>\n",
       "    <tr>\n",
       "      <th>max</th>\n",
       "      <td>45.000000</td>\n",
       "      <td>3.818686e+06</td>\n",
       "      <td>1.000000</td>\n",
       "      <td>100.140000</td>\n",
       "      <td>4.468000</td>\n",
       "      <td>227.232807</td>\n",
       "      <td>14.313000</td>\n",
       "    </tr>\n",
       "  </tbody>\n",
       "</table>\n",
       "</div>"
      ],
      "text/plain": [
       "             Store  Weekly_Sales  Holiday_Flag  Temperature   Fuel_Price  \\\n",
       "count  6435.000000  6.435000e+03   6435.000000  6435.000000  6435.000000   \n",
       "mean     23.000000  1.046965e+06      0.069930    60.663782     3.358607   \n",
       "std      12.988182  5.643666e+05      0.255049    18.444933     0.459020   \n",
       "min       1.000000  2.099862e+05      0.000000    -2.060000     2.472000   \n",
       "25%      12.000000  5.533501e+05      0.000000    47.460000     2.933000   \n",
       "50%      23.000000  9.607460e+05      0.000000    62.670000     3.445000   \n",
       "75%      34.000000  1.420159e+06      0.000000    74.940000     3.735000   \n",
       "max      45.000000  3.818686e+06      1.000000   100.140000     4.468000   \n",
       "\n",
       "               CPI  Unemployment  \n",
       "count  6435.000000   6435.000000  \n",
       "mean    171.578394      7.999151  \n",
       "std      39.356712      1.875885  \n",
       "min     126.064000      3.879000  \n",
       "25%     131.735000      6.891000  \n",
       "50%     182.616521      7.874000  \n",
       "75%     212.743293      8.622000  \n",
       "max     227.232807     14.313000  "
      ]
     },
     "execution_count": 88,
     "metadata": {},
     "output_type": "execute_result"
    }
   ],
   "source": [
    "summary"
   ]
  },
  {
   "cell_type": "code",
   "execution_count": 89,
   "metadata": {},
   "outputs": [
    {
     "data": {
      "text/html": [
       "<div>\n",
       "<style scoped>\n",
       "    .dataframe tbody tr th:only-of-type {\n",
       "        vertical-align: middle;\n",
       "    }\n",
       "\n",
       "    .dataframe tbody tr th {\n",
       "        vertical-align: top;\n",
       "    }\n",
       "\n",
       "    .dataframe thead th {\n",
       "        text-align: right;\n",
       "    }\n",
       "</style>\n",
       "<table border=\"1\" class=\"dataframe\">\n",
       "  <thead>\n",
       "    <tr style=\"text-align: right;\">\n",
       "      <th></th>\n",
       "      <th>Store</th>\n",
       "      <th>Weekly_Sales</th>\n",
       "      <th>Holiday_Flag</th>\n",
       "      <th>Temperature</th>\n",
       "      <th>Fuel_Price</th>\n",
       "      <th>CPI</th>\n",
       "      <th>Unemployment</th>\n",
       "    </tr>\n",
       "  </thead>\n",
       "  <tbody>\n",
       "    <tr>\n",
       "      <th>Store</th>\n",
       "      <td>1.000000e+00</td>\n",
       "      <td>-0.335332</td>\n",
       "      <td>-4.386841e-16</td>\n",
       "      <td>-0.022659</td>\n",
       "      <td>0.060023</td>\n",
       "      <td>-0.209492</td>\n",
       "      <td>0.223531</td>\n",
       "    </tr>\n",
       "    <tr>\n",
       "      <th>Weekly_Sales</th>\n",
       "      <td>-3.353320e-01</td>\n",
       "      <td>1.000000</td>\n",
       "      <td>3.689097e-02</td>\n",
       "      <td>-0.063810</td>\n",
       "      <td>0.009464</td>\n",
       "      <td>-0.072634</td>\n",
       "      <td>-0.106176</td>\n",
       "    </tr>\n",
       "    <tr>\n",
       "      <th>Holiday_Flag</th>\n",
       "      <td>-4.386841e-16</td>\n",
       "      <td>0.036891</td>\n",
       "      <td>1.000000e+00</td>\n",
       "      <td>-0.155091</td>\n",
       "      <td>-0.078347</td>\n",
       "      <td>-0.002162</td>\n",
       "      <td>0.010960</td>\n",
       "    </tr>\n",
       "    <tr>\n",
       "      <th>Temperature</th>\n",
       "      <td>-2.265908e-02</td>\n",
       "      <td>-0.063810</td>\n",
       "      <td>-1.550913e-01</td>\n",
       "      <td>1.000000</td>\n",
       "      <td>0.144982</td>\n",
       "      <td>0.176888</td>\n",
       "      <td>0.101158</td>\n",
       "    </tr>\n",
       "    <tr>\n",
       "      <th>Fuel_Price</th>\n",
       "      <td>6.002295e-02</td>\n",
       "      <td>0.009464</td>\n",
       "      <td>-7.834652e-02</td>\n",
       "      <td>0.144982</td>\n",
       "      <td>1.000000</td>\n",
       "      <td>-0.170642</td>\n",
       "      <td>-0.034684</td>\n",
       "    </tr>\n",
       "    <tr>\n",
       "      <th>CPI</th>\n",
       "      <td>-2.094919e-01</td>\n",
       "      <td>-0.072634</td>\n",
       "      <td>-2.162091e-03</td>\n",
       "      <td>0.176888</td>\n",
       "      <td>-0.170642</td>\n",
       "      <td>1.000000</td>\n",
       "      <td>-0.302020</td>\n",
       "    </tr>\n",
       "    <tr>\n",
       "      <th>Unemployment</th>\n",
       "      <td>2.235313e-01</td>\n",
       "      <td>-0.106176</td>\n",
       "      <td>1.096028e-02</td>\n",
       "      <td>0.101158</td>\n",
       "      <td>-0.034684</td>\n",
       "      <td>-0.302020</td>\n",
       "      <td>1.000000</td>\n",
       "    </tr>\n",
       "  </tbody>\n",
       "</table>\n",
       "</div>"
      ],
      "text/plain": [
       "                     Store  Weekly_Sales  Holiday_Flag  Temperature  \\\n",
       "Store         1.000000e+00     -0.335332 -4.386841e-16    -0.022659   \n",
       "Weekly_Sales -3.353320e-01      1.000000  3.689097e-02    -0.063810   \n",
       "Holiday_Flag -4.386841e-16      0.036891  1.000000e+00    -0.155091   \n",
       "Temperature  -2.265908e-02     -0.063810 -1.550913e-01     1.000000   \n",
       "Fuel_Price    6.002295e-02      0.009464 -7.834652e-02     0.144982   \n",
       "CPI          -2.094919e-01     -0.072634 -2.162091e-03     0.176888   \n",
       "Unemployment  2.235313e-01     -0.106176  1.096028e-02     0.101158   \n",
       "\n",
       "              Fuel_Price       CPI  Unemployment  \n",
       "Store           0.060023 -0.209492      0.223531  \n",
       "Weekly_Sales    0.009464 -0.072634     -0.106176  \n",
       "Holiday_Flag   -0.078347 -0.002162      0.010960  \n",
       "Temperature     0.144982  0.176888      0.101158  \n",
       "Fuel_Price      1.000000 -0.170642     -0.034684  \n",
       "CPI            -0.170642  1.000000     -0.302020  \n",
       "Unemployment   -0.034684 -0.302020      1.000000  "
      ]
     },
     "execution_count": 89,
     "metadata": {},
     "output_type": "execute_result"
    }
   ],
   "source": [
    "correlation"
   ]
  },
  {
   "cell_type": "code",
   "execution_count": 90,
   "metadata": {},
   "outputs": [
    {
     "data": {
      "text/plain": [
       "Store           0.000000\n",
       "Weekly_Sales    0.466200\n",
       "Temperature     0.015540\n",
       "Fuel_Price      0.000000\n",
       "CPI             0.000000\n",
       "Unemployment    3.403263\n",
       "dtype: float64"
      ]
     },
     "execution_count": 90,
     "metadata": {},
     "output_type": "execute_result"
    }
   ],
   "source": [
    "outliers"
   ]
  },
  {
   "cell_type": "code",
   "execution_count": 100,
   "metadata": {},
   "outputs": [],
   "source": [
    "# converting to text format \n",
    "def create_content_text(unique, data_types, numerical, categorical, summary, correlation, outliers):\n",
    "    text = f\"The unique values in the data are {unique}\\n. The data types of the columns are: {data_types}\\n. The numerical columns in the data are {numerical}\\n. The categorical columns in the data are {categorical}\\n. The summary statistics of the data are {summary}\\n. The correlation between the numerical columns is {correlation}\\n. The percentage of outliers in the numerical columns are {outliers}.\"\n",
    "    return text\n"
   ]
  },
  {
   "cell_type": "code",
   "execution_count": 101,
   "metadata": {},
   "outputs": [],
   "source": [
    "text = create_content_text(unique, data_types, numerical, categorical, summary, correlation, outliers)"
   ]
  },
  {
   "cell_type": "code",
   "execution_count": 103,
   "metadata": {},
   "outputs": [
    {
     "name": "stdout",
     "output_type": "stream",
     "text": [
      "The unique values in the data are Store             45\n",
      "Date             143\n",
      "Weekly_Sales    6435\n",
      "Holiday_Flag       2\n",
      "Temperature     3528\n",
      "Fuel_Price       892\n",
      "CPI             2145\n",
      "Unemployment     349\n",
      "dtype: int64\n",
      ". The data types of the columns are: Store: int64\n",
      "Date: object\n",
      "Weekly_Sales: float64\n",
      "Holiday_Flag: int64\n",
      "Temperature: float64\n",
      "Fuel_Price: float64\n",
      "CPI: float64\n",
      "Unemployment: float64\n",
      "\n",
      ". The numerical columns in the data are ['Store', 'Weekly_Sales', 'Holiday_Flag', 'Temperature', 'Fuel_Price', 'CPI', 'Unemployment']\n",
      ". The categorical columns in the data are ['Date']\n",
      ". The summary statistics of the data are              Store  Weekly_Sales  Holiday_Flag  Temperature   Fuel_Price  \\\n",
      "count  6435.000000  6.435000e+03   6435.000000  6435.000000  6435.000000   \n",
      "mean     23.000000  1.046965e+06      0.069930    60.663782     3.358607   \n",
      "std      12.988182  5.643666e+05      0.255049    18.444933     0.459020   \n",
      "min       1.000000  2.099862e+05      0.000000    -2.060000     2.472000   \n",
      "25%      12.000000  5.533501e+05      0.000000    47.460000     2.933000   \n",
      "50%      23.000000  9.607460e+05      0.000000    62.670000     3.445000   \n",
      "75%      34.000000  1.420159e+06      0.000000    74.940000     3.735000   \n",
      "max      45.000000  3.818686e+06      1.000000   100.140000     4.468000   \n",
      "\n",
      "               CPI  Unemployment  \n",
      "count  6435.000000   6435.000000  \n",
      "mean    171.578394      7.999151  \n",
      "std      39.356712      1.875885  \n",
      "min     126.064000      3.879000  \n",
      "25%     131.735000      6.891000  \n",
      "50%     182.616521      7.874000  \n",
      "75%     212.743293      8.622000  \n",
      "max     227.232807     14.313000  \n",
      ". The correlation between the numerical columns is                      Store  Weekly_Sales  Holiday_Flag  Temperature  \\\n",
      "Store         1.000000e+00     -0.335332 -4.386841e-16    -0.022659   \n",
      "Weekly_Sales -3.353320e-01      1.000000  3.689097e-02    -0.063810   \n",
      "Holiday_Flag -4.386841e-16      0.036891  1.000000e+00    -0.155091   \n",
      "Temperature  -2.265908e-02     -0.063810 -1.550913e-01     1.000000   \n",
      "Fuel_Price    6.002295e-02      0.009464 -7.834652e-02     0.144982   \n",
      "CPI          -2.094919e-01     -0.072634 -2.162091e-03     0.176888   \n",
      "Unemployment  2.235313e-01     -0.106176  1.096028e-02     0.101158   \n",
      "\n",
      "              Fuel_Price       CPI  Unemployment  \n",
      "Store           0.060023 -0.209492      0.223531  \n",
      "Weekly_Sales    0.009464 -0.072634     -0.106176  \n",
      "Holiday_Flag   -0.078347 -0.002162      0.010960  \n",
      "Temperature     0.144982  0.176888      0.101158  \n",
      "Fuel_Price      1.000000 -0.170642     -0.034684  \n",
      "CPI            -0.170642  1.000000     -0.302020  \n",
      "Unemployment   -0.034684 -0.302020      1.000000  \n",
      ". The percentage of outliers in the numerical columns are Store           0.000000\n",
      "Weekly_Sales    0.466200\n",
      "Temperature     0.015540\n",
      "Fuel_Price      0.000000\n",
      "CPI             0.000000\n",
      "Unemployment    3.403263\n",
      "dtype: float64.\n"
     ]
    }
   ],
   "source": [
    "print(text)"
   ]
  },
  {
   "cell_type": "code",
   "execution_count": 97,
   "metadata": {},
   "outputs": [],
   "source": [
    "# creating a cleaning assistant\n",
    "def data_cleaner_ass(data):\n",
    "    columns = data.columns\n",
    "    missing = sum_missing_values(data)\n",
    "    duplicated = sum_duplicates(data)\n",
    "    numerical = numerical_columns(data)\n",
    "    outliers = check_outliers(data, numerical)\n",
    "    return columns, missing, duplicated, numerical, outliers"
   ]
  },
  {
   "cell_type": "code",
   "execution_count": 98,
   "metadata": {},
   "outputs": [],
   "source": [
    "columns, missing, duplicated, numerical, outliers = data_cleaner_ass(data)"
   ]
  },
  {
   "cell_type": "code",
   "execution_count": 99,
   "metadata": {},
   "outputs": [
    {
     "data": {
      "text/plain": [
       "Store           0.000000\n",
       "Weekly_Sales    0.466200\n",
       "Temperature     0.015540\n",
       "Fuel_Price      0.000000\n",
       "CPI             0.000000\n",
       "Unemployment    3.403263\n",
       "dtype: float64"
      ]
     },
     "execution_count": 99,
     "metadata": {},
     "output_type": "execute_result"
    }
   ],
   "source": [
    "outliers"
   ]
  },
  {
   "cell_type": "code",
   "execution_count": 114,
   "metadata": {},
   "outputs": [],
   "source": [
    "# creating text for the output\n",
    "def create_cleaner_text(columns, missing, duplicated, numerical, outliers):\n",
    "    text = f\"These are the columns in the data {columns}.\\nThe total missing values in the data is {missing}.\\nThere are {duplicated} duplicates in the data.\\nThe numerical features in the data include {numerical}.\\nThe table below shows the outliers in the data: \\n{outliers}\"\n",
    "    return text"
   ]
  },
  {
   "cell_type": "code",
   "execution_count": 115,
   "metadata": {},
   "outputs": [],
   "source": [
    "text = create_cleaner_text(columns, missing, duplicated, numerical, outliers)"
   ]
  },
  {
   "cell_type": "code",
   "execution_count": 116,
   "metadata": {},
   "outputs": [
    {
     "name": "stdout",
     "output_type": "stream",
     "text": [
      "These are the columns in the data Index(['Store', 'Date', 'Weekly_Sales', 'Holiday_Flag', 'Temperature',\n",
      "       'Fuel_Price', 'CPI', 'Unemployment'],\n",
      "      dtype='object').\n",
      "The total missing values in the data is 0.\n",
      "There are 0 duplicates in the data.\n",
      "The numerical features in the data include ['Store', 'Weekly_Sales', 'Holiday_Flag', 'Temperature', 'Fuel_Price', 'CPI', 'Unemployment'].\n",
      "The table below shows the outliers in the data: \n",
      "Store           0.000000\n",
      "Weekly_Sales    0.466200\n",
      "Temperature     0.015540\n",
      "Fuel_Price      0.000000\n",
      "CPI             0.000000\n",
      "Unemployment    3.403263\n",
      "dtype: float64\n"
     ]
    }
   ],
   "source": [
    "print(text)"
   ]
  },
  {
   "cell_type": "code",
   "execution_count": null,
   "metadata": {},
   "outputs": [],
   "source": []
  },
  {
   "cell_type": "code",
   "execution_count": null,
   "metadata": {},
   "outputs": [],
   "source": []
  },
  {
   "cell_type": "code",
   "execution_count": null,
   "metadata": {},
   "outputs": [],
   "source": []
  },
  {
   "cell_type": "code",
   "execution_count": null,
   "metadata": {},
   "outputs": [],
   "source": []
  },
  {
   "cell_type": "code",
   "execution_count": null,
   "metadata": {},
   "outputs": [],
   "source": []
  },
  {
   "cell_type": "code",
   "execution_count": null,
   "metadata": {},
   "outputs": [],
   "source": []
  },
  {
   "cell_type": "code",
   "execution_count": null,
   "metadata": {},
   "outputs": [],
   "source": []
  },
  {
   "cell_type": "code",
   "execution_count": null,
   "metadata": {},
   "outputs": [],
   "source": []
  },
  {
   "cell_type": "code",
   "execution_count": null,
   "metadata": {},
   "outputs": [],
   "source": []
  },
  {
   "cell_type": "code",
   "execution_count": null,
   "metadata": {},
   "outputs": [],
   "source": []
  },
  {
   "cell_type": "code",
   "execution_count": null,
   "metadata": {},
   "outputs": [],
   "source": []
  },
  {
   "cell_type": "code",
   "execution_count": null,
   "metadata": {},
   "outputs": [],
   "source": []
  }
 ],
 "metadata": {
  "kernelspec": {
   "display_name": "Python 3",
   "language": "python",
   "name": "python3"
  },
  "language_info": {
   "codemirror_mode": {
    "name": "ipython",
    "version": 3
   },
   "file_extension": ".py",
   "mimetype": "text/x-python",
   "name": "python",
   "nbconvert_exporter": "python",
   "pygments_lexer": "ipython3",
   "version": "3.11.0"
  }
 },
 "nbformat": 4,
 "nbformat_minor": 2
}
